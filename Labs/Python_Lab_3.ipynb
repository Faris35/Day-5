{
 "cells": [
  {
   "cell_type": "markdown",
   "metadata": {},
   "source": [
    "# Python_Lab_3\n"
   ]
  },
  {
   "cell_type": "markdown",
   "metadata": {},
   "source": [
    "### Task 1\n",
    "- Write a function named **'create_student_records'** that takes a list of tuples. Each tuple contains a student's name and their scores in three subjects. The function should return a list of dictionaries, where each dictionary represents a student with keys: name, subject1, subject2, subject3. Use list comprehension to create the list of dictionaries."
   ]
  },
  {
   "cell_type": "code",
   "execution_count": 16,
   "metadata": {},
   "outputs": [
    {
     "name": "stdout",
     "output_type": "stream",
     "text": [
      "[{'name': 'Kareem', 'subject1': 85, 'subject2': 90, 'subject3': 88},\n",
      " {'name': 'Hamad', 'subject1': 78, 'subject2': 82, 'subject3': 80},\n",
      " {'name': 'Riyadh', 'subject1': 92, 'subject2': 95, 'subject3': 93},\n",
      " {'name': 'Ahmed', 'subject1': 92, 'subject2': 80, 'subject3': 98}]\n"
     ]
    }
   ],
   "source": [
    "import pprint\n",
    "\n",
    "# input to fun is [(name, score1, score2, score3), (name, score1, score2, score3), ...]\n",
    "def create_student_records(students):\n",
    "    student_records = [{'name': student[0], 'subject1': student[1], 'subject2': student[2], 'subject3': student[3]} for student in students]\n",
    "    return student_records\n",
    "\n",
    "# Test the function\n",
    "students = [('Kareem', 85, 90, 88), ('Hamad', 78, 82, 80), ('Riyadh', 92, 95, 93), ('Ahmed', 92, 80, 98)]\n",
    "pprint.pprint(create_student_records(students))"
   ]
  },
  {
   "cell_type": "markdown",
   "metadata": {},
   "source": [
    "### Task 2\n",
    "- Write a function named **'filter_and_sort_students'** that takes the list of dictionaries from Question 1 and returns a sorted list of student names who have an average score of 80 or more across all subjects. Sort the names in alphabetical order."
   ]
  },
  {
   "cell_type": "code",
   "execution_count": 7,
   "metadata": {},
   "outputs": [
    {
     "name": "stdout",
     "output_type": "stream",
     "text": [
      "['Ahmed', 'Kareem', 'Riyadh']\n"
     ]
    }
   ],
   "source": [
    "students = create_student_records(students)\n",
    "\n",
    "def filter_and_sort_students(students):\n",
    "    # Filter students who have failed in any subject\n",
    "    students = [student['name'] for student in students if student['subject1'] >= 80 and student['subject2'] >= 80 and student['subject3'] >= 80]\n",
    "    # Sort students based on their names\n",
    "    students = sorted(students)\n",
    "    return students\n",
    "\n",
    "# Test the function\n",
    "print(filter_and_sort_students(students))"
   ]
  },
  {
   "cell_type": "markdown",
   "metadata": {},
   "source": [
    "### Task 3\n",
    "- Write a function named **'get_product_info'** that prompts the user to enter information about a product. The function should ask for the product name, product price, and product quantity. If the user enters an invalid input (e.g., a non-numeric value for the price or quantity), the function should handle the error and prompt the user to enter the value again. Return a dictionary containing the product information."
   ]
  },
  {
   "cell_type": "code",
   "execution_count": 5,
   "metadata": {},
   "outputs": [],
   "source": [
    "def check_input(product_name, product_price, product_quantity):\n",
    "    # Check if the inputs are of the correct type\n",
    "    if not isinstance(product_name, str) or not isinstance(product_price, (float)) or not isinstance(product_quantity, int):\n",
    "        return False\n",
    "    # Check if the price and quantity are non-negative\n",
    "    if product_price < 0 or product_quantity < 0:\n",
    "        return False\n",
    "    return True\n",
    "\n",
    "def collect_product_info():\n",
    "    while True:\n",
    "        # Prompt the user to enter product information\n",
    "        try:\n",
    "            product_name = input('Enter product name (str): ')\n",
    "            product_price = float(input('Enter product price (int or float): '))\n",
    "            product_quantity = int(input('Enter product quantity (int): '))\n",
    "        except ValueError:\n",
    "            print('Invalid input. Please enter the correct type.')\n",
    "            continue\n",
    "        # Validate the input\n",
    "        if check_input(product_name, product_price, product_quantity):\n",
    "            break\n",
    "    # Store the product information in a dictionary\n",
    "    product_information = {'name': product_name, 'price': product_price, 'quantity': product_quantity}\n",
    "    return product_information\n"
   ]
  },
  {
   "cell_type": "code",
   "execution_count": 6,
   "metadata": {},
   "outputs": [
    {
     "name": "stdout",
     "output_type": "stream",
     "text": [
      "{'name': 'fw', 'price': 21.0, 'quantity': 33}\n"
     ]
    }
   ],
   "source": [
    "def get_product_info(product_name, product_price, product_quantity):\n",
    "    # If the input is invalid, prompt the user to enter the information again\n",
    "    if not check_input(product_name, product_price, product_quantity):\n",
    "        return collect_product_info()\n",
    "    # Store the product information in a dictionary\n",
    "    product_information = {'name': product_name, 'price': product_price, 'quantity': product_quantity}\n",
    "    return product_information\n",
    "\n",
    "# Test the get_product_info function\n",
    "product_name = 9\n",
    "product_price = 1200.50\n",
    "product_quantity = 5\n",
    "\n",
    "print(get_product_info(product_name, product_price, product_quantity))"
   ]
  },
  {
   "cell_type": "markdown",
   "metadata": {},
   "source": [
    "### Task 4\n",
    "- Write a function named **'get_even_numbers'** that takes a list of integers and returns a list of even numbers using list comprehension."
   ]
  },
  {
   "cell_type": "code",
   "execution_count": 8,
   "metadata": {},
   "outputs": [
    {
     "name": "stdout",
     "output_type": "stream",
     "text": [
      "[2, 4, 6, 8, 10]\n"
     ]
    }
   ],
   "source": [
    "def get_even_numbers(numbers):\n",
    "    # Use list comprehension to filter even numbers\n",
    "    return [number for number in numbers if number % 2 == 0]\n",
    "\n",
    "# Test the function with a sample list of numbers\n",
    "numbers = [1, 2, 3, 4, 5, 6, 7, 8, 9, 10]\n",
    "print(get_even_numbers(numbers))"
   ]
  },
  {
   "cell_type": "markdown",
   "metadata": {},
   "source": [
    "### Task 5\n",
    "- Write a function named **'pair_elements'** that takes two lists of equal length as parameters and returns a list of tuples, where each tuple contains corresponding elements from the two lists. Use the zip function to achieve this."
   ]
  },
  {
   "cell_type": "code",
   "execution_count": 19,
   "metadata": {},
   "outputs": [
    {
     "name": "stdout",
     "output_type": "stream",
     "text": [
      "[(1, 'a'), (2, 'b'), (3, 'c'), (4, 'd')]\n"
     ]
    }
   ],
   "source": [
    "def pair_elements(list1, list2):\n",
    "    # Use the zip function to pair corresponding elements from the two lists\n",
    "    return zip(list1, list2)\n",
    "\n",
    "# Test the function with sample lists\n",
    "list1 = [1, 2, 3, 4]\n",
    "list2 = ['a', 'b', 'c', 'd']\n",
    "\n",
    "# Convert the zip object to a list and print the result\n",
    "print(list(pair_elements(list1, list2)))"
   ]
  },
  {
   "cell_type": "markdown",
   "metadata": {},
   "source": [
    "### Task 6\n",
    "- Write a function named **'square_dict_lambda'** that takes a list of integers and returns a dictionary where the keys are the integers and the values are their squares. Use a lambda function within a dictionary comprehension to achieve this."
   ]
  },
  {
   "cell_type": "code",
   "execution_count": 22,
   "metadata": {},
   "outputs": [
    {
     "name": "stdout",
     "output_type": "stream",
     "text": [
      "Number: 1, Square: 1\n",
      "Number: 2, Square: 4\n",
      "Number: 3, Square: 9\n",
      "Number: 4, Square: 16\n",
      "Number: 5, Square: 25\n",
      "Number: 6, Square: 36\n",
      "Number: 7, Square: 49\n",
      "Number: 8, Square: 64\n",
      "Number: 9, Square: 81\n",
      "Number: 10, Square: 100\n"
     ]
    }
   ],
   "source": [
    "def square_dict_lambda(numbers):\n",
    "    # Create a dictionary where the keys are the integers and the values are their squares\n",
    "    return {number: (lambda x: x**2)(number) for number in numbers}\n",
    "\n",
    "# Test the function with the sample list of numbers\n",
    "for number, square in square_dict_lambda(numbers).items():\n",
    "    print(f\"Number: {number}, Square: {square}\")"
   ]
  }
 ],
 "metadata": {
  "kernelspec": {
   "display_name": "base",
   "language": "python",
   "name": "python3"
  },
  "language_info": {
   "codemirror_mode": {
    "name": "ipython",
    "version": 3
   },
   "file_extension": ".py",
   "mimetype": "text/x-python",
   "name": "python",
   "nbconvert_exporter": "python",
   "pygments_lexer": "ipython3",
   "version": "3.11.5"
  }
 },
 "nbformat": 4,
 "nbformat_minor": 2
}
